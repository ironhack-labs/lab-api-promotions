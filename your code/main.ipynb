{
 "cells": [
  {
   "cell_type": "markdown",
   "metadata": {},
   "source": [
    "# Challenge: Promotions\n",
    "\n",
    "In this challenge, you'll develop codes to parse and analyze data returned from another API on Zalando such as [(Men's Promotions)](https://en.zalando.de/outlet-mens/) or [(Women's Promotions)](https://en.zalando.de/outlet-women/). The workflow is almost the same as in the guided lesson but you'll work with different data."
   ]
  },
  {
   "cell_type": "markdown",
   "metadata": {},
   "source": [
    "## Obtaining the link\n",
    "\n",
    "Wrote your codes in the cell below to obtain the data from the API endpoint you choose. A recap of the workflow:\n",
    "\n",
    "1. Examine the webpages and choose one that you want to work with.\n",
    "\n",
    "1. Use Google Chrome's DevTools to inspect the XHR network requests. Find out the API endpoint that serves data to the webpage.\n",
    "\n",
    "1. Test the API endpoint in the browser to verify its data.\n",
    "\n",
    "1. Change the page number offset of the API URL to test if it's working."
   ]
  },
  {
   "cell_type": "code",
   "execution_count": null,
   "metadata": {},
   "outputs": [],
   "source": [
    "# your code here"
   ]
  },
  {
   "cell_type": "markdown",
   "metadata": {},
   "source": [
    "## Reading the data\n",
    "\n",
    "In the next cell, use Python to obtain data from the API endpoint you chose in the previous step. Workflow:\n",
    "\n",
    "1. Import libraries.\n",
    "\n",
    "1. Define the initial API endpoint URL.\n",
    "\n",
    "1. Make request to obtain data of the 1st page. Flatten the data and store it in an empty object variable.\n",
    "\n",
    "1. Find out the total page count in the 1st page data.\n",
    "\n",
    "1. Use a FOR loop to make requests for the additional pages from 2 to page count. Append the data of each additional page to the flatterned data object.\n",
    "\n",
    "1. Print and review the data you obtained."
   ]
  },
  {
   "cell_type": "code",
   "execution_count": null,
   "metadata": {},
   "outputs": [],
   "source": [
    "# your code here"
   ]
  },
  {
   "cell_type": "markdown",
   "metadata": {},
   "source": [
    "## Bonus\n",
    "\n",
    "Extract the following information from the data:\n",
    "\n",
    "* The trending brand.\n",
    "\n",
    "* The product(s) with the highest discount.\n",
    "\n",
    "* The sum of discounts of all goods (sum_discounted_prices divided by sum_original_prices)."
   ]
  },
  {
   "cell_type": "markdown",
   "metadata": {},
   "source": [
    "-> tried with reddit cause zalando did not work"
   ]
  },
  {
   "cell_type": "code",
   "execution_count": 25,
   "metadata": {},
   "outputs": [
    {
     "name": "stdout",
     "output_type": "stream",
     "text": [
      "Name the game you just couldn't get into\n",
      "ICE agents arrest Virginia man in a courthouse raid, immediately after judge dismissed his case. During the enforcement the alleged officers showed no badge, no identification, no warrant, no marked federal vehicle, one with face completely covered.\n",
      "AIO - for thinking my boyfriend is jealous of my DAD?\n",
      "a 72-year-old father in Paraguay waits every night at a dark bus stop to walk his daughter home from work, ensuring her safety.\n",
      "Robin Williams Making Koko The Gorilla Laugh For The First Time In Months, After Her Friend Died\n",
      "What do you think about this guy defacing Trump’s Presidential seal?\n",
      "Astronaut Perry’s first night on tour in Mexico City\n",
      "Howard Lutnick: “All those factories that you're bringing in because of your trade policy, we're gonna train people in tradecraft. Bring back tradecraft to America so that people can work in these factories” back to the old days while the rest of the world is progressing with automation.\n",
      "What's wrong with this poor creature?\n",
      "French Artist “EmEmEm”paves cracks and holes with mosaics. This is also known as “Flacking”.\n",
      "A Tree Frog demonstrates how it \"adheres\" to surfaces like leaves (or glass)\n",
      "Katy Perry is struggling to sell tickets for US dates of her Lifetimes Tour\n",
      "AITAH for being angry my tax refund paid off my husbands child support\n",
      "Americans Believe Russian Disinformation ‘To Alarming Degree’\n",
      "He will remember this for a long time\n",
      "What anime comes to mind?\n",
      "Made in China\n",
      "Pete Hegseth had an unsecured internet line set up in his office to connect to Signal, AP sources say\n",
      "Now we know. It was Retail CEOS who got to Trump on Monday\n",
      "TIL Jazz musician, Fats Waller, was kidnapped by 4 men and “given” to Al Capone as a birthday gift. He performed for 3 days and was found drunk with thousands of dollars in cash stuffed in his pockets.\n",
      "My under eye has been twitching non stop for 3 days straight\n",
      "Prime Video taking censorship to ridiculous levels\n",
      "Donald Trump Pleads With Putin to Stop Attacking Ukraine: 'Vladimir, STOP!'\n",
      "Houthi rebels shoot down 7 US military Reaper drones worth $334m, in recent weeks\n",
      "YSK The danger Measles poses is not primarily death from Measles itself.\n"
     ]
    }
   ],
   "source": [
    "import requests\n",
    "\n",
    "url = \"https://www.reddit.com/r/popular.json\"\n",
    "\n",
    "headers = {\n",
    "    \"User-Agent\": \"Mozilla/5.0\"\n",
    "}\n",
    "\n",
    "res = requests.get(url, headers=headers)\n",
    "data = res.json()\n",
    "\n",
    "for post in data[\"data\"][\"children\"]:\n",
    "    print(post[\"data\"][\"title\"])\n"
   ]
  }
 ],
 "metadata": {
  "kernelspec": {
   "display_name": "datasci_env",
   "language": "python",
   "name": "python3"
  },
  "language_info": {
   "codemirror_mode": {
    "name": "ipython",
    "version": 3
   },
   "file_extension": ".py",
   "mimetype": "text/x-python",
   "name": "python",
   "nbconvert_exporter": "python",
   "pygments_lexer": "ipython3",
   "version": "3.8.20"
  }
 },
 "nbformat": 4,
 "nbformat_minor": 2
}
